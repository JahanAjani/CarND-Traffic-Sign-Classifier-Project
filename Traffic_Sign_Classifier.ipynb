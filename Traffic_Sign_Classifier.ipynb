{
 "cells": [
  {
   "cell_type": "markdown",
   "metadata": {},
   "source": [
    "\n",
    "# Self-Driving Car Engineer Nanodegree\n",
    "\n",
    "## Deep Learning\n",
    "\n",
    "## Project: Build a Traffic Sign Recognition Classifier\n",
    "\n",
    "In this notebook, a template is provided for you to implement your functionality in stages, which is required to successfully complete this project. If additional code is required that cannot be included in the notebook, be sure that the Python code is successfully imported and included in your submission if necessary. \n",
    "\n",
    "> **Note**: Once you have completed all of the code implementations, you need to finalize your work by exporting the iPython Notebook as an HTML document. Before exporting the notebook to html, all of the code cells need to have been run so that reviewers can see the final implementation and output. You can then export the notebook by using the menu above and navigating to  \\n\",\n",
    "    \"**File -> Download as -> HTML (.html)**. Include the finished document along with this notebook as your submission. \n",
    "\n",
    "In addition to implementing code, there is a writeup to complete. The writeup should be completed in a separate file, which can be either a markdown file or a pdf document. There is a [write up template](https://github.com/udacity/CarND-Traffic-Sign-Classifier-Project/blob/master/writeup_template.md) that can be used to guide the writing process. Completing the code template and writeup template will cover all of the [rubric points](https://review.udacity.com/#!/rubrics/481/view) for this project.\n",
    "\n",
    "The [rubric](https://review.udacity.com/#!/rubrics/481/view) contains \"Stand Out Suggestions\" for enhancing the project beyond the minimum requirements. The stand out suggestions are optional. If you decide to pursue the \"stand out suggestions\", you can include the code in this Ipython notebook and also discuss the results in the writeup file.\n",
    "\n",
    "\n",
    ">**Note:** Code and Markdown cells can be executed using the **Shift + Enter** keyboard shortcut. In addition, Markdown cells can be edited by typically double-clicking the cell to enter edit mode."
   ]
  },
  {
   "cell_type": "markdown",
   "metadata": {},
   "source": [
    "pickle data link : https://s3-us-west-1.amazonaws.com/udacity-selfdrivingcar/traffic-signs-data.zip"
   ]
  },
  {
   "cell_type": "markdown",
   "metadata": {},
   "source": [
    "---\n",
    "## Step 0: Load The Data"
   ]
  },
  {
   "cell_type": "code",
   "execution_count": 1,
   "metadata": {},
   "outputs": [],
   "source": [
    "# Load pickled data\n",
    "import pickle\n",
    "import numpy as np\n",
    "import seaborn as sns\n",
    "\n",
    "# TODO: Fill this in based on where you saved the training and testing data\n",
    "\n",
    "training_file = \"./input/train.p\"\n",
    "validation_file=\"./input/valid.p\" \n",
    "testing_file = \"./input/test.p\"\n",
    "\n",
    "with open(training_file, mode='rb') as f:\n",
    "    train = pickle.load(f)\n",
    "with open(validation_file, mode='rb') as f:\n",
    "    valid = pickle.load(f)\n",
    "with open(testing_file, mode='rb') as f:\n",
    "    test = pickle.load(f)\n",
    "    \n",
    "X_train, y_train = train['features'], train['labels']\n",
    "X_valid, y_valid = valid['features'], valid['labels']\n",
    "X_test, y_test = test['features'], test['labels']"
   ]
  },
  {
   "cell_type": "markdown",
   "metadata": {},
   "source": [
    "---\n",
    "\n",
    "## Step 1: Dataset Summary & Exploration\n",
    "\n",
    "The pickled data is a dictionary with 4 key/value pairs:\n",
    "\n",
    "- `'features'` is a 4D array containing raw pixel data of the traffic sign images, (num examples, width, height, channels).\n",
    "- `'labels'` is a 1D array containing the label/class id of the traffic sign. The file `signnames.csv` contains id -> name mappings for each id.\n",
    "- `'sizes'` is a list containing tuples, (width, height) representing the original width and height the image.\n",
    "- `'coords'` is a list containing tuples, (x1, y1, x2, y2) representing coordinates of a bounding box around the sign in the image. **THESE COORDINATES ASSUME THE ORIGINAL IMAGE. THE PICKLED DATA CONTAINS RESIZED VERSIONS (32 by 32) OF THESE IMAGES**\n",
    "\n",
    "Complete the basic data summary below. Use python, numpy and/or pandas methods to calculate the data summary rather than hard coding the results. For example, the [pandas shape method](http://pandas.pydata.org/pandas-docs/stable/generated/pandas.DataFrame.shape.html) might be useful for calculating some of the summary results. "
   ]
  },
  {
   "cell_type": "markdown",
   "metadata": {},
   "source": [
    "### Provide a Basic Summary of the Data Set Using Python, Numpy and/or Pandas"
   ]
  },
  {
   "cell_type": "code",
   "execution_count": 2,
   "metadata": {},
   "outputs": [
    {
     "name": "stdout",
     "output_type": "stream",
     "text": [
      "Number of training examples = 34799\n",
      "Number of testing examples = 12630\n",
      "Image data shape = (32, 32, 3)\n",
      "Number of classes = 43\n"
     ]
    }
   ],
   "source": [
    "### Replace each question mark with the appropriate value. \n",
    "### Use python, pandas or numpy methods rather than hard coding the results\n",
    "\n",
    "# TODO: Number of training examples\n",
    "n_train = X_train.shape[0]\n",
    "\n",
    "# TODO: Number of validation examples\n",
    "n_validation = X_valid.shape[0]\n",
    "\n",
    "# TODO: Number of testing examples.\n",
    "n_test = X_test.shape[0]\n",
    "\n",
    "# TODO: What's the shape of an traffic sign image?\n",
    "image_shape = X_train.shape[1:]\n",
    "\n",
    "# TODO: How many unique classes/labels there are in the dataset.\n",
    "n_classes = len(np.unique(y_train))\n",
    "\n",
    "print(\"Number of training examples =\", n_train)\n",
    "print(\"Number of testing examples =\", n_test)\n",
    "print(\"Image data shape =\", image_shape)\n",
    "print(\"Number of classes =\", n_classes)"
   ]
  },
  {
   "cell_type": "code",
   "execution_count": 3,
   "metadata": {},
   "outputs": [],
   "source": [
    "from sklearn.utils import shuffle\n",
    "\n",
    "X_train, y_train = shuffle(X_train, y_train)"
   ]
  },
  {
   "cell_type": "markdown",
   "metadata": {},
   "source": [
    "### Include an exploratory visualization of the dataset"
   ]
  },
  {
   "cell_type": "markdown",
   "metadata": {},
   "source": [
    "Visualize the German Traffic Signs Dataset using the pickled file(s). This is open ended, suggestions include: plotting traffic sign images, plotting the count of each sign, etc. \n",
    "\n",
    "The [Matplotlib](http://matplotlib.org/) [examples](http://matplotlib.org/examples/index.html) and [gallery](http://matplotlib.org/gallery.html) pages are a great resource for doing visualizations in Python.\n",
    "\n",
    "**NOTE:** It's recommended you start with something simple first. If you wish to do more, come back to it after you've completed the rest of the sections. It can be interesting to look at the distribution of classes in the training, validation and test set. Is the distribution the same? Are there more examples of some classes than others?"
   ]
  },
  {
   "cell_type": "code",
   "execution_count": 4,
   "metadata": {},
   "outputs": [],
   "source": [
    "### Data exploration visualization code goes here.\n",
    "### Feel free to use as many code cells as needed.\n",
    "import matplotlib.pyplot as plt\n",
    "# Visualizations will be shown in the notebook.\n",
    "%matplotlib inline"
   ]
  },
  {
   "cell_type": "code",
   "execution_count": 5,
   "metadata": {
    "scrolled": false
   },
   "outputs": [
    {
     "name": "stderr",
     "output_type": "stream",
     "text": [
      "d:\\projects\\sdc\\sdc36\\lib\\site-packages\\matplotlib\\axes\\_axes.py:6521: MatplotlibDeprecationWarning: \n",
      "The 'normed' kwarg was deprecated in Matplotlib 2.1 and will be removed in 3.1. Use 'density' instead.\n",
      "  alternative=\"'density'\", removal=\"3.1\")\n"
     ]
    },
    {
     "data": {
      "image/png": "[encoded data removed]",
      "text/plain": [
       "<Figure size 432x288 with 1 Axes>"
      ]
     },
     "metadata": {
      "needs_background": "light"
     },
     "output_type": "display_data"
    }
   ],
   "source": [
    "fig, ax = plt.subplots(1,1)\n",
    "ax.hist(y_train, n_classes, normed=1)\n",
    "plt.show()"
   ]
  },
  {
   "cell_type": "code",
   "execution_count": 6,
   "metadata": {},
   "outputs": [
    {
     "data": {
      "text/plain": [
       "<matplotlib.axes._subplots.AxesSubplot at 0x264bc0a4710>"
      ]
     },
     "execution_count": 6,
     "metadata": {},
     "output_type": "execute_result"
    },
    {
     "data": {
      "image/png": "[encoded data removed]",
      "text/plain": [
       "<Figure size 432x288 with 1 Axes>"
      ]
     },
     "metadata": {
      "needs_background": "light"
     },
     "output_type": "display_data"
    }
   ],
   "source": [
    "sns.countplot(y_train)"
   ]
  },
  {
   "cell_type": "code",
   "execution_count": 7,
   "metadata": {
    "scrolled": true
   },
   "outputs": [
    {
     "data": {
      "text/plain": [
       "<matplotlib.image.AxesImage at 0x264bc272da0>"
      ]
     },
     "execution_count": 7,
     "metadata": {},
     "output_type": "execute_result"
    },
    {
     "data": {
      "image/png": "[encoded data removed]",
      "text/plain": [
       "<Figure size 1152x432 with 1 Axes>"
      ]
     },
     "metadata": {
      "needs_background": "light"
     },
     "output_type": "display_data"
    }
   ],
   "source": [
    "plt.figure(figsize=(16,6))b\n",
    "features = X_train[...][24]\n",
    "plt.imshow(features.squeeze())"
   ]
  },
  {
   "cell_type": "markdown",
   "metadata": {},
   "source": [
    "Four functions for augmenting the dataset: random_translate, random_scale, random_warp, and random_brightness"
   ]
  },
  {
   "cell_type": "code",
   "execution_count": 8,
   "metadata": {},
   "outputs": [],
   "source": [
    "import cv2"
   ]
  },
  {
   "cell_type": "markdown",
   "metadata": {},
   "source": [
    "### Random translate"
   ]
  },
  {
   "cell_type": "code",
   "execution_count": 72,
   "metadata": {},
   "outputs": [],
   "source": [
    "def random_translate(img):\n",
    "    rows,cols,_ = img.shape\n",
    "    \n",
    "    #allow translation up to px pixels in x and y directions\n",
    "    px = 2\n",
    "    dx,dy = np.random.randint(-px, px, size=2)\n",
    "    \n",
    "    M = np.float32([[1,0,dx], [0,1,dy]])\n",
    "    dst = cv2.warpAffine(img, M,(cols,rows))\n",
    "    #dst = dst[:,:,np.newaxis]\n",
    "    return dst"
   ]
  },
  {
   "cell_type": "code",
   "execution_count": 73,
   "metadata": {},
   "outputs": [
    {
     "name": "stdout",
     "output_type": "stream",
     "text": [
      "(32, 32, 3)\n"
     ]
    },
    {
     "data": {
      "text/plain": [
       "<matplotlib.image.AxesImage at 0x264d8dfacc0>"
      ]
     },
     "execution_count": 73,
     "metadata": {},
     "output_type": "execute_result"
    },
    {
     "data": {
      "image/png": "[encoded data removed]",
      "text/plain": [
       "<Figure size 720x216 with 2 Axes>"
      ]
     },
     "metadata": {
      "needs_background": "light"
     },
     "output_type": "display_data"
    }
   ],
   "source": [
    "## Test random_translate() method:\n",
    "#X_train[24].shape\n",
    "translate_img_test = random_translate(X_train[24])\n",
    "print(translate_img_test.shape)\n",
    "fig, ax = plt.subplots(1,2, figsize=(10,3))\n",
    "ax[0].set_title('original')\n",
    "ax[0].imshow(X_train[24])\n",
    "ax[1].set_title('translated')\n",
    "ax[1].imshow(translate_img_test.squeeze())"
   ]
  },
  {
   "cell_type": "markdown",
   "metadata": {},
   "source": [
    "### Random scaling"
   ]
  },
  {
   "cell_type": "code",
   "execution_count": 68,
   "metadata": {},
   "outputs": [],
   "source": [
    "def random_scaling(img):\n",
    "    \n",
    "    rows, cols,_ =  img.shape\n",
    "    # px pixels to scale image\n",
    "    px = np.random.randint(-2,2)\n",
    "    \n",
    "    # ending locations\n",
    "    pts1 = np.float32([[px,px],[rows-px, px],[px,cols-px],[rows-px,cols-px]])\n",
    "    # starting locations\n",
    "    pts2 = np.float32([[0,0],[rows,0], [0,cols],[rows,cols]])\n",
    "    \n",
    "    M = cv2.getPerspectiveTransform(pts2,pts1)\n",
    "    dst = cv2.warpPerspective(img, M, (rows,cols))\n",
    "    #dst = dst[:, :, np.newaxis]\n",
    "    \n",
    "    return dst"
   ]
  },
  {
   "cell_type": "code",
   "execution_count": 69,
   "metadata": {},
   "outputs": [
    {
     "name": "stdout",
     "output_type": "stream",
     "text": [
      "(32, 32, 3)\n"
     ]
    },
    {
     "data": {
      "text/plain": [
       "Text(0.5, 1.0, 'scaled')"
      ]
     },
     "execution_count": 69,
     "metadata": {},
     "output_type": "execute_result"
    },
    {
     "data": {
      "image/png": "[encoded data removed]",
      "text/plain": [
       "<Figure size 720x216 with 2 Axes>"
      ]
     },
     "metadata": {
      "needs_background": "light"
     },
     "output_type": "display_data"
    }
   ],
   "source": [
    "scaled_image_test = random_scaling(X_train[24])\n",
    "print(scaled_image_test.shape)\n",
    "fg, ax = plt.subplots(1,2, figsize=(10,3))\n",
    "\n",
    "ax[0].imshow(X_train[24].squeeze())\n",
    "ax[0].set_title('original')\n",
    "\n",
    "ax[1].imshow(scaled_image_test.squeeze())\n",
    "ax[1].set_title('scaled')"
   ]
  },
  {
   "cell_type": "markdown",
   "metadata": {},
   "source": [
    "### Random brightness"
   ]
  },
  {
   "cell_type": "markdown",
   "metadata": {},
   "source": [
    "<p>\n",
    "    Color vision can be processed using RGB color space or HSV color space. RGB color space\n",
    "describes colors in terms of the amount of red, green, and blue present. HSV color space\n",
    "describes colors in terms of the Hue, Saturation, and Value. In situations where color description\n",
    "plays an integral role, the HSV color model is often preferred over the RGB model. The HSV\n",
    "model describes colors similarly to how the human eye tends to perceive color. RGB defines\n",
    "color in terms of a combination of primary colors, where as, HSV describes color using more\n",
    "familiar comparisons such as color, vibrancy and brightness. The basketball robot uses HSV\n",
    "color space to process color vision. \n",
    "</p>\n",
    "\n",
    "![alt-image](./images/hsv_model.png)\n",
    "\n",
    "<p>\n",
    "    Figure 1 illustrates how hue, saturation, and value are defined.\n",
    "• Hue represents the color type. It can be described in terms of an angle on the above\n",
    "circle. Although a circle contains 360 degrees of rotation, the hue value is normalized to\n",
    "a range from 0 to 255, with 0 being red.\n",
    "• Saturation represents the vibrancy of the color. Its value ranges from 0 to 255. The\n",
    "lower the saturation value, the more gray is present in the color, causing it to appear\n",
    "faded.\n",
    "• Value represents the brightness of the color. It ranges from 0 to 255, with 0 being\n",
    "completely dark and 255 being fully bright.\n",
    "• White has an HSV value of 0-255, 0-255, 255. Black has an HSV value of 0-255, 0-255,\n",
    "0. The dominant description for black and white is the term, value. The hue and\n",
    "saturation level do not make a difference when value is at max or min intensity level.\n",
    "</p>"
   ]
  },
  {
   "cell_type": "code",
   "execution_count": 52,
   "metadata": {},
   "outputs": [],
   "source": [
    "def random_brightness(img):\n",
    "    hsv_img = cv2.cvtColor(img, cv2.COLOR_BGR2HSV)\n",
    "    h,s,v = cv2.split(hsv_img)\n",
    "    scale = np.random.uniform(.8, 1.25)\n",
    "    v = np.clip(v * scale, 0, 255, out=v)\n",
    "    img = cv2.merge((h,s,v))\n",
    "    img = cv2.cvtColor(img, cv2.COLOR_HSV2BGR)\n",
    "    return img"
   ]
  },
  {
   "cell_type": "code",
   "execution_count": 65,
   "metadata": {},
   "outputs": [
    {
     "name": "stdout",
     "output_type": "stream",
     "text": [
      "(32, 32, 3)\n"
     ]
    },
    {
     "data": {
      "text/plain": [
       "Text(0.5, 1.0, 'changed brightness')"
      ]
     },
     "execution_count": 65,
     "metadata": {},
     "output_type": "execute_result"
    },
    {
     "data": {
      "image/png": "[encoded data removed]",
      "text/plain": [
       "<Figure size 720x216 with 2 Axes>"
      ]
     },
     "metadata": {
      "needs_background": "light"
     },
     "output_type": "display_data"
    }
   ],
   "source": [
    "bright_image_test = random_brightness(X_train[24])\n",
    "print(bright_image_test.shape)\n",
    "\n",
    "fg, ax = plt.subplots(1,2, figsize=(10,3))\n",
    "\n",
    "ax[0].imshow(X_train[24].squeeze())\n",
    "ax[0].set_title('original')\n",
    "\n",
    "ax[1].imshow(bright_image_test.squeeze())\n",
    "ax[1].set_title('changed brightness')"
   ]
  },
  {
   "cell_type": "code",
   "execution_count": 60,
   "metadata": {},
   "outputs": [
    {
     "data": {
      "image/png": "[encoded data removed]",
      "text/plain": [
       "<Figure size 432x288 with 1 Axes>"
      ]
     },
     "metadata": {
      "needs_background": "light"
     },
     "output_type": "display_data"
    }
   ],
   "source": [
    "# histogram of label frequency (once again, before data augmentation)\n",
    "hist, bins = np.histogram(y_train, bins=n_classes)\n",
    "width = 0.7 * (bins[1] - bins[0])\n",
    "center = (bins[:-1] + bins[1:]) / 2\n",
    "# print(bins[:-1])\n",
    "# print(bins[1:])\n",
    "# print(center)\n",
    "plt.bar(center, hist, align='center', width=width)\n",
    "plt.show()"
   ]
  },
  {
   "cell_type": "code",
   "execution_count": 61,
   "metadata": {},
   "outputs": [
    {
     "name": "stdout",
     "output_type": "stream",
     "text": [
      "[ 180 1980 2010 1260 1770 1650  360 1290 1260 1320 1800 1170 1890 1920\n",
      "  690  540  360  990 1080  180  300  270  330  450  240 1350  540  210\n",
      "  480  240  390  690  210  599  360 1080  330  180 1860  270  300  210\n",
      "  210]\n",
      "minimum samples for any label: 180\n"
     ]
    }
   ],
   "source": [
    "print(np.bincount(y_train))\n",
    "print(\"minimum samples for any label:\", min(np.bincount(y_train)))"
   ]
  },
  {
   "cell_type": "code",
   "execution_count": 74,
   "metadata": {},
   "outputs": [
    {
     "name": "stdout",
     "output_type": "stream",
     "text": [
      "X, y shapes:  (34799, 32, 32, 3) (34799,)\n",
      "0 : |----|----|----|----|----|----|----|----|----|----|----|----|-\n",
      "1 : \n",
      "2 : \n",
      "3 : \n",
      "4 : \n",
      "5 : \n",
      "6 : |----|----|----|----|----|----|----|----|---\n",
      "7 : \n",
      "8 : \n",
      "9 : \n",
      "10 : \n",
      "11 : \n",
      "12 : \n",
      "13 : \n",
      "14 : |----|----|\n",
      "15 : |----|----|----|----|----|\n",
      "16 : |----|----|----|----|----|----|----|----|---\n",
      "17 : \n",
      "18 : \n",
      "19 : |----|----|----|----|----|----|----|----|----|----|----|----|-\n",
      "20 : |----|----|----|----|----|----|----|----|----|----\n",
      "21 : |----|----|----|----|----|----|----|----|----|----|--\n",
      "22 : |----|----|----|----|----|----|----|----|----|-\n",
      "23 : |----|----|----|----|----|----|----\n",
      "24 : |----|----|----|----|----|----|----|----|----|----|----|\n",
      "25 : \n",
      "26 : |----|----|----|----|----|\n",
      "27 : |----|----|----|----|----|----|----|----|----|----|----|---\n",
      "28 : |----|----|----|----|----|----|-\n",
      "29 : |----|----|----|----|----|----|----|----|----|----|----|\n",
      "30 : |----|----|----|----|----|----|----|----|\n",
      "31 : |----|----|\n",
      "32 : |----|----|----|----|----|----|----|----|----|----|----|---\n",
      "33 : |----|----|----|----|\n",
      "34 : |----|----|----|----|----|----|----|----|---\n",
      "35 : \n",
      "36 : |----|----|----|----|----|----|----|----|----|-\n",
      "37 : |----|----|----|----|----|----|----|----|----|----|----|----|-\n",
      "38 : \n",
      "39 : |----|----|----|----|----|----|----|----|----|----|--\n",
      "40 : |----|----|----|----|----|----|----|----|----|----\n",
      "41 : |----|----|----|----|----|----|----|----|----|----|----|---\n",
      "42 : |----|----|----|----|----|----|----|----|----|----|----|---\n",
      "X, y shapes: [[[[100 110 118]\n",
      "   [112 122 139]\n",
      "   [127 138 161]\n",
      "   ...\n",
      "   [173 188 221]\n",
      "   [169 186 217]\n",
      "   [169 186 217]]\n",
      "\n",
      "  [[ 99 105 121]\n",
      "   [115 118 138]\n",
      "   [134 137 164]\n",
      "   ...\n",
      "   [171 187 220]\n",
      "   [170 186 219]\n",
      "   [171 187 219]]\n",
      "\n",
      "  [[100  98 132]\n",
      "   [121 121 148]\n",
      "   [132 134 159]\n",
      "   ...\n",
      "   [169 185 216]\n",
      "   [171 186 217]\n",
      "   [173 189 221]]\n",
      "\n",
      "  ...\n",
      "\n",
      "  [[ 26  26  29]\n",
      "   [ 26  26  29]\n",
      "   [ 26  25  27]\n",
      "   ...\n",
      "   [154 169 196]\n",
      "   [157 171 199]\n",
      "   [157 172 200]]\n",
      "\n",
      "  [[ 27  26  28]\n",
      "   [ 28  26  28]\n",
      "   [ 27  25  27]\n",
      "   ...\n",
      "   [155 168 195]\n",
      "   [158 170 196]\n",
      "   [158 171 197]]\n",
      "\n",
      "  [[ 26  25  29]\n",
      "   [ 27  26  29]\n",
      "   [ 26  25  27]\n",
      "   ...\n",
      "   [156 169 196]\n",
      "   [158 168 196]\n",
      "   [159 169 195]]]\n",
      "\n",
      "\n",
      " [[[ 60  43  38]\n",
      "   [ 60  41  36]\n",
      "   [ 67  47  41]\n",
      "   ...\n",
      "   [ 96  43  38]\n",
      "   [105  54  49]\n",
      "   [ 99  61  57]]\n",
      "\n",
      "  [[ 61  44  38]\n",
      "   [ 63  43  36]\n",
      "   [ 74  49  45]\n",
      "   ...\n",
      "   [ 94  41  38]\n",
      "   [ 98  46  46]\n",
      "   [ 97  55  57]]\n",
      "\n",
      "  [[ 62  44  39]\n",
      "   [ 67  44  37]\n",
      "   [ 81  52  47]\n",
      "   ...\n",
      "   [ 95  40  37]\n",
      "   [ 97  43  42]\n",
      "   [ 96  48  47]]\n",
      "\n",
      "  ...\n",
      "\n",
      "  [[168 123 137]\n",
      "   [224 187 227]\n",
      "   [250 231 249]\n",
      "   ...\n",
      "   [144 108  92]\n",
      "   [239 195 166]\n",
      "   [168 120  78]]\n",
      "\n",
      "  [[208 164 156]\n",
      "   [238 223 216]\n",
      "   [248 219 223]\n",
      "   ...\n",
      "   [139 108  95]\n",
      "   [234 195 175]\n",
      "   [145 104  76]]\n",
      "\n",
      "  [[168 127  97]\n",
      "   [193 149 116]\n",
      "   [220 173 145]\n",
      "   ...\n",
      "   [131 106  96]\n",
      "   [229 199 186]\n",
      "   [143 108  92]]]\n",
      "\n",
      "\n",
      " [[[ 28  28  37]\n",
      "   [ 27  27  30]\n",
      "   [ 23  22  25]\n",
      "   ...\n",
      "   [ 16  15  16]\n",
      "   [ 15  14  16]\n",
      "   [ 10  15  17]]\n",
      "\n",
      "  [[ 30  31  38]\n",
      "   [ 26  26  28]\n",
      "   [ 22  20  22]\n",
      "   ...\n",
      "   [ 17  16  18]\n",
      "   [ 15  14  16]\n",
      "   [ 10  16  20]]\n",
      "\n",
      "  [[ 20  20  24]\n",
      "   [ 21  21  26]\n",
      "   [ 18  16  17]\n",
      "   ...\n",
      "   [ 15  15  17]\n",
      "   [ 15  14  17]\n",
      "   [  9  13  16]]\n",
      "\n",
      "  ...\n",
      "\n",
      "  [[ 14  13  15]\n",
      "   [ 14  13  15]\n",
      "   [ 15  14  16]\n",
      "   ...\n",
      "   [ 13  11  14]\n",
      "   [ 12  11  13]\n",
      "   [  8  10  12]]\n",
      "\n",
      "  [[ 13  12  15]\n",
      "   [ 14  13  15]\n",
      "   [ 15  14  16]\n",
      "   ...\n",
      "   [ 14  12  14]\n",
      "   [ 12  10  13]\n",
      "   [  8  10  12]]\n",
      "\n",
      "  [[ 14  14  17]\n",
      "   [ 17  18  20]\n",
      "   [ 20  20  22]\n",
      "   ...\n",
      "   [ 14  14  16]\n",
      "   [ 13  13  16]\n",
      "   [  9  12  14]]]\n",
      "\n",
      "\n",
      " ...\n",
      "\n",
      "\n",
      " [[[  0   0   0]\n",
      "   [  0   0   0]\n",
      "   [  0   0   0]\n",
      "   ...\n",
      "   [  0   0   0]\n",
      "   [  0   0   0]\n",
      "   [  0   0   0]]\n",
      "\n",
      "  [[  0   0   0]\n",
      "   [176 107  30]\n",
      "   [176 108  31]\n",
      "   ...\n",
      "   [165 100  28]\n",
      "   [165 100  28]\n",
      "   [162  99  29]]\n",
      "\n",
      "  [[  0   0   0]\n",
      "   [174 107  31]\n",
      "   [175 107  30]\n",
      "   ...\n",
      "   [162  99  28]\n",
      "   [162  98  28]\n",
      "   [161  96  29]]\n",
      "\n",
      "  ...\n",
      "\n",
      "  [[  0   0   0]\n",
      "   [ 17  16  19]\n",
      "   [ 16  17  19]\n",
      "   ...\n",
      "   [ 26  24  22]\n",
      "   [ 24  24  22]\n",
      "   [ 24  25  22]]\n",
      "\n",
      "  [[  0   0   0]\n",
      "   [ 16  16  19]\n",
      "   [ 16  16  19]\n",
      "   ...\n",
      "   [ 26  23  22]\n",
      "   [ 27  24  23]\n",
      "   [ 26  25  23]]\n",
      "\n",
      "  [[  0   0   0]\n",
      "   [ 16  16  19]\n",
      "   [ 16  16  19]\n",
      "   ...\n",
      "   [ 24  23  22]\n",
      "   [ 26  26  24]\n",
      "   [ 28  27  24]]]\n",
      "\n",
      "\n",
      " [[[  0   0   0]\n",
      "   [ 81 102  80]\n",
      "   [128 102  63]\n",
      "   ...\n",
      "   [153  92  52]\n",
      "   [149  88  53]\n",
      "   [152  86  53]]\n",
      "\n",
      "  [[  0   0   0]\n",
      "   [ 76  89  72]\n",
      "   [123  96  66]\n",
      "   ...\n",
      "   [ 72  47  14]\n",
      "   [ 70  42  15]\n",
      "   [ 71  43  15]]\n",
      "\n",
      "  [[  0   0   0]\n",
      "   [ 61  72  61]\n",
      "   [107  88  69]\n",
      "   ...\n",
      "   [ 99  84  26]\n",
      "   [100  82  27]\n",
      "   [102  87  27]]\n",
      "\n",
      "  ...\n",
      "\n",
      "  [[  0   0   0]\n",
      "   [ 28  28  28]\n",
      "   [ 26  26  26]\n",
      "   ...\n",
      "   [ 24  21  22]\n",
      "   [ 23  21  23]\n",
      "   [ 22  20  22]]\n",
      "\n",
      "  [[  0   0   0]\n",
      "   [  0   0   0]\n",
      "   [  0   0   0]\n",
      "   ...\n",
      "   [  0   0   0]\n",
      "   [  0   0   0]\n",
      "   [  0   0   0]]\n",
      "\n",
      "  [[  0   0   0]\n",
      "   [  0   0   0]\n",
      "   [  0   0   0]\n",
      "   ...\n",
      "   [  0   0   0]\n",
      "   [  0   0   0]\n",
      "   [  0   0   0]]]\n",
      "\n",
      "\n",
      " [[[ 37  33  30]\n",
      "   [ 35  31  29]\n",
      "   [ 33  29  28]\n",
      "   ...\n",
      "   [  0   0   0]\n",
      "   [  0   0   0]\n",
      "   [  0   0   0]]\n",
      "\n",
      "  [[ 39  34  30]\n",
      "   [ 35  31  28]\n",
      "   [ 32  29  26]\n",
      "   ...\n",
      "   [  0   0   0]\n",
      "   [  0   0   0]\n",
      "   [  0   0   0]]\n",
      "\n",
      "  [[ 39  33  27]\n",
      "   [ 35  31  26]\n",
      "   [ 31  28  25]\n",
      "   ...\n",
      "   [  0   0   0]\n",
      "   [  0   0   0]\n",
      "   [  0   0   0]]\n",
      "\n",
      "  ...\n",
      "\n",
      "  [[  0   0   0]\n",
      "   [  0   0   0]\n",
      "   [  0   0   0]\n",
      "   ...\n",
      "   [  0   0   0]\n",
      "   [  0   0   0]\n",
      "   [  0   0   0]]\n",
      "\n",
      "  [[  0   0   0]\n",
      "   [  0   0   0]\n",
      "   [  0   0   0]\n",
      "   ...\n",
      "   [  0   0   0]\n",
      "   [  0   0   0]\n",
      "   [  0   0   0]]\n",
      "\n",
      "  [[  0   0   0]\n",
      "   [  0   0   0]\n",
      "   [  0   0   0]\n",
      "   ...\n",
      "   [  0   0   0]\n",
      "   [  0   0   0]\n",
      "   [  0   0   0]]]] (46480,)\n"
     ]
    }
   ],
   "source": [
    "print('X, y shapes: ', X_train.shape, y_train.shape)\n",
    "\n",
    "input_indices = []\n",
    "output_indices = []\n",
    "\n",
    "for class_n in range(n_classes):\n",
    "    print(class_n,': ', end='')\n",
    "    class_indices = np.where(y_train == class_n)\n",
    "    n_samples = len(class_indices[0])\n",
    "    if n_samples < 800:\n",
    "        for i in range(800 - n_samples):\n",
    "            input_indices.append(class_indices[0][i%n_samples])\n",
    "            output_indices.append(X_train.shape[0])\n",
    "            new_img = X_train[class_indices[0][i % n_samples]]\n",
    "            new_img = random_translate(random_scaling(random_brightness(new_img)))\n",
    "            X_train = np.concatenate((X_train, [new_img]), axis=0)\n",
    "            y_train = np.concatenate((y_train, [class_n]), axis=0)\n",
    "            if i % 50 == 0:\n",
    "                print('|', end='')\n",
    "            elif i % 10 == 0:\n",
    "                print('-',end='')\n",
    "    print('')\n",
    "            \n",
    "print('X, y shapes:', X_train.shape, y_train.shape)\n",
    "print(\"Lets augment images for classes which has num of images < 800.\")\n",
    "printrint(\"Below visualization shows which classes where augmented and by how many images.\")"
   ]
  },
  {
   "cell_type": "code",
   "execution_count": 75,
   "metadata": {},
   "outputs": [],
   "source": [
    "# lets save this augmented data as preparing this data took almost 20 min.\n",
    "\n",
    "training_file = \"./output/train_aug.p\"\n",
    "final_data = {'features': X_train, 'label': y_train}\n",
    "with open(training_file, mode='wb') as f:\n",
    "    train = pickle.dump(final_data, f, protocol=pickle.HIGHEST_PROTOCOL)\n"
   ]
  },
  {
   "cell_type": "code",
   "execution_count": 76,
   "metadata": {},
   "outputs": [
    {
     "name": "stdout",
     "output_type": "stream",
     "text": [
      "X, y shapes: (46480, 32, 32, 3) (46480,)\n"
     ]
    }
   ],
   "source": [
    "#lets load augumented data and visualize the data distribution.\n",
    "\n",
    "training_file = \"./output/train_aug.p\"\n",
    "with open(training_file, mode='rb') as f:\n",
    "    train_aug = pickle.load(f)\n",
    "    X_train = train_aug['features']\n",
    "    y_train = train_aug['label']\n",
    "    \n",
    "print('X, y shapes:', X_train.shape, y_train.shape)"
   ]
  },
  {
   "cell_type": "code",
   "execution_count": 77,
   "metadata": {},
   "outputs": [
    {
     "data": {
      "image/png": "[encoded data removed]",
      "text/plain": [
       "<Figure size 432x288 with 1 Axes>"
      ]
     },
     "metadata": {
      "needs_background": "light"
     },
     "output_type": "display_data"
    }
   ],
   "source": [
    "# histogram of label frequency\n",
    "hist, bins = np.histogram(y_train, bins=n_classes)\n",
    "width = 0.7 * (bins[1] - bins[0])\n",
    "center = (bins[:-1] + bins[1:]) / 2\n",
    "plt.bar(center, hist, align='center', width=width)\n",
    "plt.show()"
   ]
  },
  {
   "cell_type": "markdown",
   "metadata": {},
   "source": [
    "----\n",
    "\n",
    "## Step 2: Design and Test a Model Architecture\n",
    "\n",
    "Design and implement a deep learning model that learns to recognize traffic signs. Train and test your model on the [German Traffic Sign Dataset](http://benchmark.ini.rub.de/?section=gtsrb&subsection=dataset).\n",
    "\n",
    "The LeNet-5 implementation shown in the [classroom](https://classroom.udacity.com/nanodegrees/nd013/parts/fbf77062-5703-404e-b60c-95b78b2f3f9e/modules/6df7ae49-c61c-4bb2-a23e-6527e69209ec/lessons/601ae704-1035-4287-8b11-e2c2716217ad/concepts/d4aca031-508f-4e0b-b493-e7b706120f81) at the end of the CNN lesson is a solid starting point. You'll have to change the number of classes and possibly the preprocessing, but aside from that it's plug and play! \n",
    "\n",
    "With the LeNet-5 solution from the lecture, you should expect a validation set accuracy of about 0.89. To meet specifications, the validation set accuracy will need to be at least 0.93. It is possible to get an even higher accuracy, but 0.93 is the minimum for a successful project submission. \n",
    "\n",
    "There are various aspects to consider when thinking about this problem:\n",
    "\n",
    "- Neural network architecture (is the network over or underfitting?)\n",
    "- Play around preprocessing techniques (normalization, rgb to grayscale, etc)\n",
    "- Number of examples per label (some have more than others).\n",
    "- Generate fake data.\n",
    "\n",
    "Here is an example of a [published baseline model on this problem](http://yann.lecun.com/exdb/publis/pdf/sermanet-ijcnn-11.pdf). It's not required to be familiar with the approach used in the paper but, it's good practice to try to read papers like these."
   ]
  },
  {
   "cell_type": "markdown",
   "metadata": {},
   "source": [
    "### Pre-process the Data Set (normalization, grayscale, etc.)"
   ]
  },
  {
   "cell_type": "markdown",
   "metadata": {},
   "source": [
    "Minimally, the image data should be normalized so that the data has mean zero and equal variance. For image data, `(pixel - 128)/ 128` is a quick way to approximately normalize the data and can be used in this project. \n",
    "\n",
    "Other pre-processing steps are optional. You can try different techniques to see if it improves performance. \n",
    "\n",
    "Use the code cell (or multiple code cells, if necessary) to implement the first step of your project."
   ]
  },
  {
   "cell_type": "code",
   "execution_count": 79,
   "metadata": {
    "scrolled": false
   },
   "outputs": [],
   "source": [
    "### Preprocess the data here. It is required to normalize the data. Other preprocessing steps could include \n",
    "### converting to grayscale, etc.\n",
    "### Feel free to use as many code cells as needed.\n",
    "\n",
    "def rgb2gray(rgb):\n",
    "    return np.dot(rgb[...,:3], [0.299, 0.587, 0.114])\n",
    "X_train = rgb2gray(X_train).reshape((len(X_train),32,32,1))\n",
    "X_valid = rgb2gray(X_valid).reshape((len(X_valid),32,32,1))\n",
    "X_test = rgb2gray(X_test).reshape((len(X_test),32,32,1))\n",
    "\n"
   ]
  },
  {
   "cell_type": "code",
   "execution_count": 80,
   "metadata": {},
   "outputs": [],
   "source": [
    "X_train = (X_train - np.mean(X_train))/np.std(X_train)\n",
    "X_valid =(X_valid - np.mean(X_valid))/np.std(X_valid)\n",
    "X_test =(X_test - np.mean(X_test))/np.std(X_test)\n"
   ]
  },
  {
   "cell_type": "code",
   "execution_count": 81,
   "metadata": {},
   "outputs": [
    {
     "name": "stdout",
     "output_type": "stream",
     "text": [
      "2.5261586664528186e-15\n"
     ]
    }
   ],
   "source": [
    "print(np.mean(X_train))"
   ]
  },
  {
   "cell_type": "code",
   "execution_count": 82,
   "metadata": {},
   "outputs": [
    {
     "data": {
      "text/plain": [
       "Text(0.5, 0, '1')"
      ]
     },
     "execution_count": 82,
     "metadata": {},
     "output_type": "execute_result"
    },
    {
     "data": {
      "image/png": "[encoded data removed]",
      "text/plain": [
       "<Figure size 432x288 with 1 Axes>"
      ]
     },
     "metadata": {
      "needs_background": "light"
     },
     "output_type": "display_data"
    }
   ],
   "source": [
    "plt.imshow(X_train[10][...].squeeze(),cmap='gray')\n",
    "plt.xlabel(y_train[10])"
   ]
  },
  {
   "cell_type": "code",
   "execution_count": 83,
   "metadata": {},
   "outputs": [
    {
     "name": "stdout",
     "output_type": "stream",
     "text": [
      "(46480, 32, 32, 1)\n",
      "[ 8  1  6 ... 42 42 42]\n"
     ]
    }
   ],
   "source": [
    "print(X_train.shape)\n",
    "print(y_train)"
   ]
  },
  {
   "cell_type": "markdown",
   "metadata": {},
   "source": [
    "### Model Architecture"
   ]
  },
  {
   "cell_type": "code",
   "execution_count": 62,
   "metadata": {},
   "outputs": [
    {
     "name": "stdout",
     "output_type": "stream",
     "text": [
      "done\n"
     ]
    }
   ],
   "source": [
    "from tensorflow.contrib.layers import flatten\n",
    "import tensorflow as tf\n",
    "\n",
    "def LeNet2(x):    \n",
    "    # Hyperparameters\n",
    "    mu = 0\n",
    "    sigma = 0.1\n",
    "    \n",
    "    # TODO: Layer 1: Convolutional. Input = 32x32x1. Output = 28x28x6.\n",
    "    W1 = tf.Variable(tf.truncated_normal(shape=(5, 5, 1, 6), mean = mu, stddev = sigma), name=\"W1\")\n",
    "    x = tf.nn.conv2d(x, W1, strides=[1, 1, 1, 1], padding='VALID')\n",
    "    b1 = tf.Variable(tf.zeros(6), name=\"b1\")\n",
    "    x = tf.nn.bias_add(x, b1)\n",
    "    print(\"layer 1 shape:\",x.get_shape())\n",
    "\n",
    "    # TODO: Activation.\n",
    "    x = tf.nn.relu(x)\n",
    "    \n",
    "    # TODO: Pooling. Input = 28x28x6. Output = 14x14x6.\n",
    "    x = tf.nn.max_pool(x, ksize=[1, 2, 2, 1], strides=[1, 2, 2, 1], padding='VALID')\n",
    "    layer1 = x\n",
    "    \n",
    "    # TODO: Layer 2: Convolutional. Output = 10x10x16.\n",
    "    W2 = tf.Variable(tf.truncated_normal(shape=(5, 5, 6, 16), mean = mu, stddev = sigma), name=\"W2\")\n",
    "    x = tf.nn.conv2d(x, W2, strides=[1, 1, 1, 1], padding='VALID')\n",
    "    b2 = tf.Variable(tf.zeros(16), name=\"b2\")\n",
    "    x = tf.nn.bias_add(x, b2)\n",
    "                     \n",
    "    # TODO: Activation.\n",
    "    x = tf.nn.relu(x)\n",
    "\n",
    "    # TODO: Pooling. Input = 10x10x16. Output = 5x5x16.\n",
    "    x = tf.nn.max_pool(x, ksize=[1, 2, 2, 1], strides=[1, 2, 2, 1], padding='VALID')\n",
    "    layer2 = x\n",
    "    \n",
    "    # TODO: Layer 3: Convolutional. Output = 1x1x400.\n",
    "    W3 = tf.Variable(tf.truncated_normal(shape=(5, 5, 16, 400), mean = mu, stddev = sigma), name=\"W3\")\n",
    "    x = tf.nn.conv2d(x, W3, strides=[1, 1, 1, 1], padding='VALID')\n",
    "    b3 = tf.Variable(tf.zeros(400), name=\"b3\")\n",
    "    x = tf.nn.bias_add(x, b3)\n",
    "                     \n",
    "    # TODO: Activation.\n",
    "    x = tf.nn.relu(x)\n",
    "    layer3 = x\n",
    "\n",
    "    # TODO: Flatten. Input = 5x5x16. Output = 400.\n",
    "    layer2flat = flatten(layer2)\n",
    "    print(\"layer2flat shape:\",layer2flat.get_shape())\n",
    "    \n",
    "    # Flatten x. Input = 1x1x400. Output = 400.\n",
    "    xflat = flatten(x)\n",
    "    print(\"xflat shape:\",xflat.get_shape())\n",
    "    \n",
    "    # Concat layer2flat and x. Input = 400 + 400. Output = 800\n",
    "    x = tf.concat([xflat, layer2flat], 1)\n",
    "    print(\"x shape:\",x.get_shape())\n",
    "    \n",
    "    # Dropout\n",
    "    x = tf.nn.dropout(x, keep_prob)\n",
    "    \n",
    "    # TODO: Layer 4: Fully Connected. Input = 800. Output = 43.\n",
    "    W4 = tf.Variable(tf.truncated_normal(shape=(800, 43), mean = mu, stddev = sigma), name=\"W4\")\n",
    "    b4 = tf.Variable(tf.zeros(43), name=\"b4\")    \n",
    "    logits = tf.add(tf.matmul(x, W4), b4)\n",
    "    \n",
    "    # TODO: Activation.\n",
    "    #x = tf.nn.relu(x)\n",
    "\n",
    "    # TODO: Layer 5: Fully Connected. Input = 120. Output = 84.\n",
    "    #W5 = tf.Variable(tf.truncated_normal(shape=(120, 84), mean = mu, stddev = sigma))\n",
    "    #b5 = tf.Variable(tf.zeros(84)) \n",
    "    #x = tf.add(tf.matmul(x, W5), b5)\n",
    "    \n",
    "    # TODO: Activation.\n",
    "    #x = tf.nn.relu(x)\n",
    "\n",
    "    # TODO: Layer 6: Fully Connected. Input = 84. Output = 43.\n",
    "    #W6 = tf.Variable(tf.truncated_normal(shape=(84, 43), mean = mu, stddev = sigma))\n",
    "    #b6 = tf.Variable(tf.zeros(43)) \n",
    "    #logits = tf.add(tf.matmul(x, W6), b6)\n",
    "    \n",
    "    return logits\n",
    "\n",
    "print('done')"
   ]
  },
  {
   "cell_type": "code",
   "execution_count": 85,
   "metadata": {},
   "outputs": [],
   "source": [
    "### Define your architecture here.\n",
    "### Feel free to use as many code cells as needed.\n",
    "import tensorflow as tf\n",
    "from tensorflow.contrib.layers import flatten\n",
    "\n",
    "def model(x):\n",
    "    mu = 0\n",
    "    sigma = 0.1\n",
    "    \n",
    "    weights = {\n",
    "    'wc1': tf.Variable(tf.truncated_normal(shape=(5, 5, 1, 6), mean = mu, stddev = sigma)),\n",
    "    'wc2': tf.Variable(tf.truncated_normal(shape=(5, 5, 6, 16), mean = mu, stddev = sigma)),\n",
    "    'wc3': tf.Variable(tf.truncated_normal(shape=(400, 200), mean = mu, stddev = sigma)),\n",
    "    'wc4': tf.Variable(tf.truncated_normal(shape=(200, 100), mean = mu, stddev = sigma)),\n",
    "    'wc5': tf.Variable(tf.truncated_normal(shape=(100, 43), mean = mu, stddev = sigma))  }\n",
    "\n",
    "    biases = {\n",
    "    'bc1': tf.Variable(tf.zeros(6)),\n",
    "    'bc2': tf.Variable(tf.zeros(16)),\n",
    "    'bc3': tf.Variable(tf.zeros(200)),\n",
    "    'bc4': tf.Variable(tf.zeros(100)),\n",
    "    'bc5': tf.Variable(tf.zeros(43)) }\n",
    "    \n",
    "    conv_layer = tf.nn.conv2d(x, filter=weights['wc1'], strides=[1,1,1,1], padding='VALID')\n",
    "    conv_layer = tf.nn.bias_add(conv_layer, biases['bc1'])\n",
    "   \n",
    "    conv_layer = tf.nn.relu(conv_layer)\n",
    "\n",
    "    # Pooling. Input = 28x28x6. Output = 14x14x6.\n",
    "    conv_layer = tf.nn.max_pool(conv_layer, ksize=[1,2,2,1], strides=[1,2,2,1], padding='VALID')\n",
    "    \n",
    "    # Layer 2: Convolutional. Output = 10x10x16.\n",
    "    conv_layer = tf.nn.conv2d(conv_layer, filter=weights['wc2'], strides=[1,1,1,1], padding='VALID')\n",
    "    conv_layer = tf.nn.bias_add(conv_layer, biases['bc2'])\n",
    "    \n",
    "    # Activation.\n",
    "    conv_layer = tf.nn.relu(conv_layer)\n",
    "    \n",
    "    # Pooling. Input = 10x10x16. Output = 5x5x16.\n",
    "    conv_layer = tf.nn.max_pool(conv_layer, ksize=[1,2,2,1], strides=[1,2,2,1], padding='VALID')\n",
    "    \n",
    "    # Flatten. Input = 5x5x16. Output = 400.\n",
    "    #flatten = tf.reshape(conv_layer, shape=[-1, 400])\n",
    "    flat = flatten(conv_layer)\n",
    "    \n",
    "    # Layer 3: Fully Connected. Input = 400. Output = 120.\n",
    "    fc1 = tf.add(tf.matmul(flat, weights['wc3']), biases['bc3'])\n",
    "    \n",
    "    # Activation.\n",
    "    fc1 = tf.nn.relu(fc1)\n",
    "\n",
    "    # Layer 4: Fully Connected. Input = 120. Output = 84.\n",
    "    fc2 = tf.add(tf.matmul(fc1, weights['wc4']), biases['bc4'])\n",
    "    \n",
    "    # Activation.\n",
    "    fc2 = tf.nn.relu(fc2)\n",
    "    \n",
    "    # Layer 5: Fully Connected. Input = 84. Output = 43.\n",
    "    logits = tf.add(tf.matmul(fc2, weights['wc5']), biases['bc5'])\n",
    "    \n",
    "    return logits\n",
    "    "
   ]
  },
  {
   "cell_type": "markdown",
   "metadata": {},
   "source": [
    "### Train, Validate and Test the Model"
   ]
  },
  {
   "cell_type": "markdown",
   "metadata": {},
   "source": [
    "A validation set can be used to assess how well the model is performing. A low accuracy on the training and validation\n",
    "sets imply underfitting. A high accuracy on the training set but low accuracy on the validation set implies overfitting."
   ]
  },
  {
   "cell_type": "code",
   "execution_count": 131,
   "metadata": {},
   "outputs": [],
   "source": [
    "rate = 0.0025\n",
    "EPOCHS = 85\n",
    "BATCH_SIZE = 256"
   ]
  },
  {
   "cell_type": "code",
   "execution_count": 132,
   "metadata": {},
   "outputs": [],
   "source": [
    "### Train your model here.\n",
    "### Calculate and report the accuracy on the training and validation set.\n",
    "### Once a final model architecture is selected, \n",
    "### the accuracy on the test set should be calculated and reported as well.\n",
    "### Feel free to use as many code cells as needed.\n",
    "\n",
    "tf.reset_default_graph() \n",
    "x = tf.placeholder(tf.float32, (None, 32, 32, 1))\n",
    "y = tf.placeholder(tf.int32, (None))\n",
    "#keep_prob = tf.placeholder(tf.float32)\n",
    "one_hot_y = tf.one_hot(y, 43)\n",
    "\n",
    "logits = model(x)\n",
    "#logits = LeNet2(x)\n",
    "\n",
    "cross_entropy = tf.nn.softmax_cross_entropy_with_logits(logits=logits, labels=one_hot_y)\n",
    "loss_operation = tf.reduce_mean(cross_entropy)\n",
    "optimizer = tf.train.AdamOptimizer(rate)\n",
    "training_op = optimizer.minimize(loss_operation)\n",
    "\n"
   ]
  },
  {
   "cell_type": "code",
   "execution_count": 133,
   "metadata": {},
   "outputs": [],
   "source": [
    "correct_pred =  tf.equal(tf.argmax(logits, 1), tf.argmax(one_hot_y, 1))\n",
    "accuracy_operation = tf.reduce_mean(tf.cast(correct_pred, tf.float32))\n",
    "saver = tf.train.Saver()\n",
    "\n",
    "def evaluate(x_data, y_data):\n",
    "    num_examples = len(x_data)\n",
    "    total_accuracy =0\n",
    "    sess = tf.get_default_session()\n",
    "    for offset in range(0, num_examples, BATCH_SIZE):\n",
    "        batch_x, batch_y = x_data[offset:offset+BATCH_SIZE], y_data[offset:offset+BATCH_SIZE]\n",
    "        accuracy = sess.run(accuracy_operation, feed_dict={x: batch_x, y: batch_y})\n",
    "        total_accuracy += (accuracy * len(batch_x))\n",
    "    return total_accuracy / num_examples"
   ]
  },
  {
   "cell_type": "code",
   "execution_count": 134,
   "metadata": {
    "scrolled": true
   },
   "outputs": [
    {
     "name": "stdout",
     "output_type": "stream",
     "text": [
      "Training...\n",
      "\n",
      "EPOCH 1\n",
      "Validation Accuracy = 0.853\n",
      "\n",
      "EPOCH 2\n",
      "Validation Accuracy = 0.905\n",
      "\n",
      "EPOCH 3\n",
      "Validation Accuracy = 0.913\n",
      "\n",
      "EPOCH 4\n",
      "Validation Accuracy = 0.910\n",
      "\n",
      "EPOCH 5\n",
      "Validation Accuracy = 0.925\n",
      "\n",
      "EPOCH 6\n",
      "Validation Accuracy = 0.925\n",
      "\n",
      "EPOCH 7\n",
      "Validation Accuracy = 0.931\n",
      "\n",
      "EPOCH 8\n",
      "Validation Accuracy = 0.935\n",
      "\n",
      "EPOCH 9\n",
      "Validation Accuracy = 0.940\n",
      "\n",
      "EPOCH 10\n",
      "Validation Accuracy = 0.938\n",
      "\n",
      "EPOCH 11\n",
      "Validation Accuracy = 0.921\n",
      "\n",
      "EPOCH 12\n",
      "Validation Accuracy = 0.932\n",
      "\n",
      "EPOCH 13\n",
      "Validation Accuracy = 0.939\n",
      "\n",
      "EPOCH 14\n",
      "Validation Accuracy = 0.920\n",
      "\n",
      "EPOCH 15\n",
      "Validation Accuracy = 0.930\n",
      "\n",
      "EPOCH 16\n",
      "Validation Accuracy = 0.938\n",
      "\n",
      "EPOCH 17\n",
      "Validation Accuracy = 0.926\n",
      "\n",
      "EPOCH 18\n",
      "Validation Accuracy = 0.924\n",
      "\n",
      "EPOCH 19\n",
      "Validation Accuracy = 0.934\n",
      "\n",
      "EPOCH 20\n",
      "Validation Accuracy = 0.960\n",
      "\n",
      "EPOCH 21\n",
      "Validation Accuracy = 0.942\n",
      "\n",
      "EPOCH 22\n",
      "Validation Accuracy = 0.948\n",
      "\n",
      "EPOCH 23\n",
      "Validation Accuracy = 0.943\n",
      "\n",
      "EPOCH 24\n",
      "Validation Accuracy = 0.947\n",
      "\n",
      "EPOCH 25\n",
      "Validation Accuracy = 0.931\n",
      "\n",
      "EPOCH 26\n",
      "Validation Accuracy = 0.934\n",
      "\n",
      "EPOCH 27\n",
      "Validation Accuracy = 0.948\n",
      "\n",
      "EPOCH 28\n",
      "Validation Accuracy = 0.963\n",
      "\n",
      "EPOCH 29\n",
      "Validation Accuracy = 0.932\n",
      "\n",
      "EPOCH 30\n",
      "Validation Accuracy = 0.946\n",
      "\n",
      "EPOCH 31\n",
      "Validation Accuracy = 0.951\n",
      "\n",
      "EPOCH 32\n",
      "Validation Accuracy = 0.939\n",
      "\n",
      "EPOCH 33\n",
      "Validation Accuracy = 0.951\n",
      "\n",
      "EPOCH 34\n",
      "Validation Accuracy = 0.928\n",
      "\n",
      "EPOCH 35\n",
      "Validation Accuracy = 0.947\n",
      "\n",
      "EPOCH 36\n",
      "Validation Accuracy = 0.950\n",
      "\n",
      "EPOCH 37\n",
      "Validation Accuracy = 0.952\n",
      "\n",
      "EPOCH 38\n",
      "Validation Accuracy = 0.943\n",
      "\n",
      "EPOCH 39\n",
      "Validation Accuracy = 0.937\n",
      "\n",
      "EPOCH 40\n",
      "Validation Accuracy = 0.949\n",
      "\n",
      "EPOCH 41\n",
      "Validation Accuracy = 0.944\n",
      "\n",
      "EPOCH 42\n",
      "Validation Accuracy = 0.948\n",
      "\n",
      "EPOCH 43\n",
      "Validation Accuracy = 0.945\n",
      "\n",
      "EPOCH 44\n",
      "Validation Accuracy = 0.953\n",
      "\n",
      "EPOCH 45\n",
      "Validation Accuracy = 0.954\n",
      "\n",
      "EPOCH 46\n",
      "Validation Accuracy = 0.949\n",
      "\n",
      "EPOCH 47\n",
      "Validation Accuracy = 0.950\n",
      "\n",
      "EPOCH 48\n",
      "Validation Accuracy = 0.948\n",
      "\n",
      "EPOCH 49\n",
      "Validation Accuracy = 0.954\n",
      "\n",
      "EPOCH 50\n",
      "Validation Accuracy = 0.947\n",
      "\n",
      "EPOCH 51\n",
      "Validation Accuracy = 0.952\n",
      "\n",
      "EPOCH 52\n",
      "Validation Accuracy = 0.934\n",
      "\n",
      "EPOCH 53\n",
      "Validation Accuracy = 0.954\n",
      "\n",
      "EPOCH 54\n",
      "Validation Accuracy = 0.952\n",
      "\n",
      "EPOCH 55\n",
      "Validation Accuracy = 0.943\n",
      "\n",
      "EPOCH 56\n",
      "Validation Accuracy = 0.951\n",
      "\n",
      "EPOCH 57\n",
      "Validation Accuracy = 0.949\n",
      "\n",
      "EPOCH 58\n",
      "Validation Accuracy = 0.951\n",
      "\n",
      "EPOCH 59\n",
      "Validation Accuracy = 0.945\n",
      "\n",
      "EPOCH 60\n",
      "Validation Accuracy = 0.955\n",
      "\n",
      "EPOCH 61\n",
      "Validation Accuracy = 0.952\n",
      "\n",
      "EPOCH 62\n",
      "Validation Accuracy = 0.950\n",
      "\n",
      "EPOCH 63\n",
      "Validation Accuracy = 0.955\n",
      "\n",
      "EPOCH 64\n",
      "Validation Accuracy = 0.944\n",
      "\n",
      "EPOCH 65\n",
      "Validation Accuracy = 0.951\n",
      "\n",
      "EPOCH 66\n",
      "Validation Accuracy = 0.963\n",
      "\n",
      "EPOCH 67\n",
      "Validation Accuracy = 0.959\n",
      "\n",
      "EPOCH 68\n",
      "Validation Accuracy = 0.953\n",
      "\n",
      "EPOCH 69\n",
      "Validation Accuracy = 0.955\n",
      "\n",
      "EPOCH 70\n",
      "Validation Accuracy = 0.954\n",
      "\n",
      "EPOCH 71\n",
      "Validation Accuracy = 0.956\n",
      "\n",
      "EPOCH 72\n",
      "Validation Accuracy = 0.956\n",
      "\n",
      "EPOCH 73\n",
      "Validation Accuracy = 0.963\n",
      "\n",
      "EPOCH 74\n",
      "Validation Accuracy = 0.953\n",
      "\n",
      "EPOCH 75\n",
      "Validation Accuracy = 0.955\n",
      "\n",
      "EPOCH 76\n",
      "Validation Accuracy = 0.940\n",
      "\n",
      "EPOCH 77\n",
      "Validation Accuracy = 0.946\n",
      "\n",
      "EPOCH 78\n",
      "Validation Accuracy = 0.955\n",
      "\n",
      "EPOCH 79\n",
      "Validation Accuracy = 0.942\n",
      "\n",
      "EPOCH 80\n",
      "Validation Accuracy = 0.946\n",
      "\n",
      "EPOCH 81\n",
      "Validation Accuracy = 0.959\n",
      "\n",
      "EPOCH 82\n",
      "Validation Accuracy = 0.943\n",
      "\n",
      "EPOCH 83\n",
      "Validation Accuracy = 0.949\n",
      "\n",
      "EPOCH 84\n",
      "Validation Accuracy = 0.947\n",
      "\n",
      "EPOCH 85\n",
      "Validation Accuracy = 0.954\n",
      "\n",
      "model saved\n"
     ]
    }
   ],
   "source": [
    "with tf.Session() as sess:\n",
    "    sess.run(tf.global_variables_initializer())\n",
    "    num_examples = len(X_train)\n",
    "    \n",
    "    print(\"Training...\")\n",
    "    print()\n",
    "    for i in range(EPOCHS):\n",
    "        X_train, y_train = shuffle(X_train, y_train)\n",
    "        for offset in range(0, num_examples, BATCH_SIZE):\n",
    "            end = offset + BATCH_SIZE\n",
    "            batch_x, batch_y = X_train[offset:end], y_train[offset:end]\n",
    "            sess.run(training_op, feed_dict={x: batch_x, y:batch_y})\n",
    "            \n",
    "        validation_acc = evaluate(X_valid, y_valid)\n",
    "        print(\"EPOCH {}\".format(i+1))\n",
    "        print(\"Validation Accuracy = {:.3f}\".format(validation_acc))\n",
    "        print()\n",
    "        \n",
    "    saver.save(sess, './traffic_classifier_p')\n",
    "    print(\"model saved\")"
   ]
  },
  {
   "cell_type": "code",
   "execution_count": 135,
   "metadata": {},
   "outputs": [
    {
     "name": "stdout",
     "output_type": "stream",
     "text": [
      "INFO:tensorflow:Restoring parameters from .\\traffic_classifier_p\n",
      "Test Accuracy = 0.943\n"
     ]
    }
   ],
   "source": [
    "with tf.Session() as sess:\n",
    "    saver.restore(sess, tf.train.latest_checkpoint('.'))\n",
    "\n",
    "    test_accuracy = evaluate(X_test, y_test)\n",
    "    print(\"Test Accuracy = {:.3f}\".format(test_accuracy))"
   ]
  },
  {
   "cell_type": "markdown",
   "metadata": {},
   "source": [
    "### log\n",
    "\n",
    "- train accuracy=95% test accuracy=92% batch_size=256 learning_rate=0.009 EPOCHS=50\n",
    "- train accuracy=92.4% test accuracy=90.3% batch_size=256 learning_rate=0.009 EPOCHS=50\n",
    "- train accuracy=94% test accuracy=92% batch_size=256 learning_rate=0.0009 EPOCHS=50\n",
    "- train accuracy=94.6% test accuracy=92.7% batch_size=256 learning_rate=0.009 EPOCHS=80\n",
    "- train accuracy=95.4% test accuracy=93.3% batch_size=256 learning_rate=0.003 EPOCHS=80\n",
    "- train accuracy=96.3% test accuracy=93.7% batch_size=256 learning_rate=0.0025 EPOCHS=80\n",
    "- train accuracy=95.2% test accuracy=93.7% batch_size=256 learning_rate=0.0015 EPOCHS=80\n",
    "- train accuracy=95.9% test accuracy=93.8% batch_size=256 learning_rate=0.0022 EPOCHS=100\n",
    "- train accuracy=95.4% test accuracy=94.3% batch_size=256 learning_rate=0.0025 EPOCHS=85\n"
   ]
  },
  {
   "cell_type": "code",
   "execution_count": 136,
   "metadata": {},
   "outputs": [
    {
     "name": "stdout",
     "output_type": "stream",
     "text": [
      "INFO:tensorflow:Restoring parameters from .\\traffic_classifier_p\n",
      "Test Accuracy = 0.954\n"
     ]
    }
   ],
   "source": [
    "with tf.Session() as sess:\n",
    "    saver.restore(sess, tf.train.latest_checkpoint('.'))\n",
    "\n",
    "    test_accuracy = evaluate(X_valid, y_valid)\n",
    "    print(\"Test Accuracy = {:.3f}\".format(test_accuracy))"
   ]
  },
  {
   "cell_type": "markdown",
   "metadata": {},
   "source": [
    "---\n",
    "\n",
    "## Step 3: Test a Model on New Images\n",
    "\n",
    "To give yourself more insight into how your model is working, download at least five pictures of German traffic signs from the web and use your model to predict the traffic sign type.\n",
    "\n",
    "You may find `signnames.csv` useful as it contains mappings from the class id (integer) to the actual sign name."
   ]
  },
  {
   "cell_type": "markdown",
   "metadata": {},
   "source": [
    "### Load and Output the Images"
   ]
  },
  {
   "cell_type": "code",
   "execution_count": null,
   "metadata": {},
   "outputs": [],
   "source": [
    "### Load the images and plot them here.\n",
    "### Feel free to use as many code cells as needed."
   ]
  },
  {
   "cell_type": "markdown",
   "metadata": {},
   "source": [
    "### Predict the Sign Type for Each Image"
   ]
  },
  {
   "cell_type": "code",
   "execution_count": null,
   "metadata": {},
   "outputs": [],
   "source": [
    "### Run the predictions here and use the model to output the prediction for each image.\n",
    "### Make sure to pre-process the images with the same pre-processing pipeline used earlier.\n",
    "### Feel free to use as many code cells as needed."
   ]
  },
  {
   "cell_type": "markdown",
   "metadata": {},
   "source": [
    "### Analyze Performance"
   ]
  },
  {
   "cell_type": "code",
   "execution_count": null,
   "metadata": {},
   "outputs": [],
   "source": [
    "### Calculate the accuracy for these 5 new images. \n",
    "### For example, if the model predicted 1 out of 5 signs correctly, it's 20% accurate on these new images."
   ]
  },
  {
   "cell_type": "markdown",
   "metadata": {},
   "source": [
    "### Output Top 5 Softmax Probabilities For Each Image Found on the Web"
   ]
  },
  {
   "cell_type": "markdown",
   "metadata": {},
   "source": [
    "For each of the new images, print out the model's softmax probabilities to show the **certainty** of the model's predictions (limit the output to the top 5 probabilities for each image). [`tf.nn.top_k`](https://www.tensorflow.org/versions/r0.12/api_docs/python/nn.html#top_k) could prove helpful here. \n",
    "\n",
    "The example below demonstrates how tf.nn.top_k can be used to find the top k predictions for each image.\n",
    "\n",
    "`tf.nn.top_k` will return the values and indices (class ids) of the top k predictions. So if k=3, for each sign, it'll return the 3 largest probabilities (out of a possible 43) and the correspoding class ids.\n",
    "\n",
    "Take this numpy array as an example. The values in the array represent predictions. The array contains softmax probabilities for five candidate images with six possible classes. `tf.nn.top_k` is used to choose the three classes with the highest probability:\n",
    "\n",
    "```\n",
    "# (5, 6) array\n",
    "a = np.array([[ 0.24879643,  0.07032244,  0.12641572,  0.34763842,  0.07893497,\n",
    "         0.12789202],\n",
    "       [ 0.28086119,  0.27569815,  0.08594638,  0.0178669 ,  0.18063401,\n",
    "         0.15899337],\n",
    "       [ 0.26076848,  0.23664738,  0.08020603,  0.07001922,  0.1134371 ,\n",
    "         0.23892179],\n",
    "       [ 0.11943333,  0.29198961,  0.02605103,  0.26234032,  0.1351348 ,\n",
    "         0.16505091],\n",
    "       [ 0.09561176,  0.34396535,  0.0643941 ,  0.16240774,  0.24206137,\n",
    "         0.09155967]])\n",
    "```\n",
    "\n",
    "Running it through `sess.run(tf.nn.top_k(tf.constant(a), k=3))` produces:\n",
    "\n",
    "```\n",
    "TopKV2(values=array([[ 0.34763842,  0.24879643,  0.12789202],\n",
    "       [ 0.28086119,  0.27569815,  0.18063401],\n",
    "       [ 0.26076848,  0.23892179,  0.23664738],\n",
    "       [ 0.29198961,  0.26234032,  0.16505091],\n",
    "       [ 0.34396535,  0.24206137,  0.16240774]]), indices=array([[3, 0, 5],\n",
    "       [0, 1, 4],\n",
    "       [0, 5, 1],\n",
    "       [1, 3, 5],\n",
    "       [1, 4, 3]], dtype=int32))\n",
    "```\n",
    "\n",
    "Looking just at the first row we get `[ 0.34763842,  0.24879643,  0.12789202]`, you can confirm these are the 3 largest probabilities in `a`. You'll also notice `[3, 0, 5]` are the corresponding indices."
   ]
  },
  {
   "cell_type": "code",
   "execution_count": null,
   "metadata": {},
   "outputs": [],
   "source": [
    "### Print out the top five softmax probabilities for the predictions on the German traffic sign images found on the web. \n",
    "### Feel free to use as many code cells as needed."
   ]
  },
  {
   "cell_type": "markdown",
   "metadata": {},
   "source": [
    "### Project Writeup\n",
    "\n",
    "Once you have completed the code implementation, document your results in a project writeup using this [template](https://github.com/udacity/CarND-Traffic-Sign-Classifier-Project/blob/master/writeup_template.md) as a guide. The writeup can be in a markdown or pdf file. "
   ]
  },
  {
   "cell_type": "markdown",
   "metadata": {},
   "source": [
    "> **Note**: Once you have completed all of the code implementations and successfully answered each question above, you may finalize your work by exporting the iPython Notebook as an HTML document. You can do this by using the menu above and navigating to  \\n\",\n",
    "    \"**File -> Download as -> HTML (.html)**. Include the finished document along with this notebook as your submission."
   ]
  },
  {
   "cell_type": "markdown",
   "metadata": {},
   "source": [
    "---\n",
    "\n",
    "## Step 4 (Optional): Visualize the Neural Network's State with Test Images\n",
    "\n",
    " This Section is not required to complete but acts as an additional excersise for understaning the output of a neural network's weights. While neural networks can be a great learning device they are often referred to as a black box. We can understand what the weights of a neural network look like better by plotting their feature maps. After successfully training your neural network you can see what it's feature maps look like by plotting the output of the network's weight layers in response to a test stimuli image. From these plotted feature maps, it's possible to see what characteristics of an image the network finds interesting. For a sign, maybe the inner network feature maps react with high activation to the sign's boundary outline or to the contrast in the sign's painted symbol.\n",
    "\n",
    " Provided for you below is the function code that allows you to get the visualization output of any tensorflow weight layer you want. The inputs to the function should be a stimuli image, one used during training or a new one you provided, and then the tensorflow variable name that represents the layer's state during the training process, for instance if you wanted to see what the [LeNet lab's](https://classroom.udacity.com/nanodegrees/nd013/parts/fbf77062-5703-404e-b60c-95b78b2f3f9e/modules/6df7ae49-c61c-4bb2-a23e-6527e69209ec/lessons/601ae704-1035-4287-8b11-e2c2716217ad/concepts/d4aca031-508f-4e0b-b493-e7b706120f81) feature maps looked like for it's second convolutional layer you could enter conv2 as the tf_activation variable.\n",
    "\n",
    "For an example of what feature map outputs look like, check out NVIDIA's results in their paper [End-to-End Deep Learning for Self-Driving Cars](https://devblogs.nvidia.com/parallelforall/deep-learning-self-driving-cars/) in the section Visualization of internal CNN State. NVIDIA was able to show that their network's inner weights had high activations to road boundary lines by comparing feature maps from an image with a clear path to one without. Try experimenting with a similar test to show that your trained network's weights are looking for interesting features, whether it's looking at differences in feature maps from images with or without a sign, or even what feature maps look like in a trained network vs a completely untrained one on the same sign image.\n",
    "\n",
    "<figure>\n",
    " <img src=\"visualize_cnn.png\" width=\"380\" alt=\"Combined Image\" />\n",
    " <figcaption>\n",
    " <p></p> \n",
    " <p style=\"text-align: center;\"> Your output should look something like this (above)</p> \n",
    " </figcaption>\n",
    "</figure>\n",
    " <p></p> \n"
   ]
  },
  {
   "cell_type": "code",
   "execution_count": null,
   "metadata": {},
   "outputs": [],
   "source": [
    "### Visualize your network's feature maps here.\n",
    "### Feel free to use as many code cells as needed.\n",
    "\n",
    "# image_input: the test image being fed into the network to produce the feature maps\n",
    "# tf_activation: should be a tf variable name used during your training procedure that represents the calculated state of a specific weight layer\n",
    "# activation_min/max: can be used to view the activation contrast in more detail, by default matplot sets min and max to the actual min and max values of the output\n",
    "# plt_num: used to plot out multiple different weight feature map sets on the same block, just extend the plt number for each new feature map entry\n",
    "\n",
    "def outputFeatureMap(image_input, tf_activation, activation_min=-1, activation_max=-1 ,plt_num=1):\n",
    "    # Here make sure to preprocess your image_input in a way your network expects\n",
    "    # with size, normalization, ect if needed\n",
    "    # image_input =\n",
    "    # Note: x should be the same name as your network's tensorflow data placeholder variable\n",
    "    # If you get an error tf_activation is not defined it may be having trouble accessing the variable from inside a function\n",
    "    activation = tf_activation.eval(session=sess,feed_dict={x : image_input})\n",
    "    featuremaps = activation.shape[3]\n",
    "    plt.figure(plt_num, figsize=(15,15))\n",
    "    for featuremap in range(featuremaps):\n",
    "        plt.subplot(6,8, featuremap+1) # sets the number of feature maps to show on each row and column\n",
    "        plt.title('FeatureMap ' + str(featuremap)) # displays the feature map number\n",
    "        if activation_min != -1 & activation_max != -1:\n",
    "            plt.imshow(activation[0,:,:, featuremap], interpolation=\"nearest\", vmin =activation_min, vmax=activation_max, cmap=\"gray\")\n",
    "        elif activation_max != -1:\n",
    "            plt.imshow(activation[0,:,:, featuremap], interpolation=\"nearest\", vmax=activation_max, cmap=\"gray\")\n",
    "        elif activation_min !=-1:\n",
    "            plt.imshow(activation[0,:,:, featuremap], interpolation=\"nearest\", vmin=activation_min, cmap=\"gray\")\n",
    "        else:\n",
    "            plt.imshow(activation[0,:,:, featuremap], interpolation=\"nearest\", cmap=\"gray\")"
   ]
  }
 ],
 "metadata": {
  "anaconda-cloud": {},
  "kernelspec": {
   "display_name": "sdc",
   "language": "python",
   "name": "sdc"
  },
  "language_info": {
   "codemirror_mode": {
    "name": "ipython",
    "version": 3
   },
   "file_extension": ".py",
   "mimetype": "text/x-python",
   "name": "python",
   "nbconvert_exporter": "python",
   "pygments_lexer": "ipython3",
   "version": "3.6.8"
  }
 },
 "nbformat": 4,
 "nbformat_minor": 1
}
